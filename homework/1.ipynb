{
 "cells": [
  {
   "cell_type": "code",
   "execution_count": 3,
   "metadata": {},
   "outputs": [
    {
     "name": "stdout",
     "output_type": "stream",
     "text": [
      "★★★★★★★★★★★\n",
      "★数据科学与工程导论★\n",
      "★★★★★★★★★★★\n"
     ]
    }
   ],
   "source": [
    "#homework1\n",
    "# 1.编写Python程序，打印\"数据科学与工程导论\"，并使用 print(chr(0x2605)) 语句将这句话包围起来。\n",
    "print(chr(0x2605)*11)\n",
    "print(chr(0x2605)*1,end=\"\")\n",
    "print(\"数据科学与工程导论\",end=\"\")\n",
    "print(chr(0x2605)*1)\n",
    "print(chr(0x2605)*11)"
   ]
  },
  {
   "cell_type": "code",
   "execution_count": 1,
   "metadata": {},
   "outputs": [
    {
     "name": "stdout",
     "output_type": "stream",
     "text": [
      "[1, 3, 5]\n"
     ]
    }
   ],
   "source": [
    "# 2.写一个 Python 程序，输入 x, y, z 这三个数，将这三个数从小到大使用 print 函数打印出来。\n",
    "x = int(input(\"Enter 1st Number: \"))\n",
    "y = int(input(\"Enter 2nd Number: \"))\n",
    "z = int(input(\"Enter 3rd Number: \"))\n",
    "numbers=[x,y,z]\n",
    "numbers.sort()\n",
    "print(numbers)"
   ]
  },
  {
   "cell_type": "code",
   "execution_count": 2,
   "metadata": {},
   "outputs": [
    {
     "name": "stdout",
     "output_type": "stream",
     "text": [
      "[67, 32, 25, 3]\n"
     ]
    }
   ],
   "source": [
    "# 3.写一个 Python 程序，有 w, x, y, z 四个数，将这四个数从大到小使用 print 函数打印出来。\n",
    "x = int(input(\"Enter 1st Number: \"))\n",
    "y = int(input(\"Enter 2nd Number: \"))\n",
    "z = int(input(\"Enter 3rd Number: \"))\n",
    "w = int(input(\"Enter 4th Number: \"))\n",
    "numbers=[x,y,z,w]\n",
    "numbers.sort(reverse=True)\n",
    "print(numbers)"
   ]
  },
  {
   "cell_type": "code",
   "execution_count": 6,
   "metadata": {},
   "outputs": [
    {
     "name": "stdout",
     "output_type": "stream",
     "text": [
      "1 3 5 7 9 11 13 15 17 19 21 23 25 27 29 31 33 35 37 39 41 43 45 47 49 51 53 55 57 59 61 63 65 67 69 71 73 75 77 79 81 83 85 87 89 91 93 95 97 99 "
     ]
    }
   ],
   "source": [
    "# 4.写一个 Python 程序，输出 1-100 中的所有奇数。\n",
    "for i in range(1,101):\n",
    "    if i % 2 != 0:\n",
    "        print(i,end=\" \")"
   ]
  },
  {
   "cell_type": "code",
   "execution_count": 8,
   "metadata": {},
   "outputs": [
    {
     "name": "stdout",
     "output_type": "stream",
     "text": [
      "5050\n"
     ]
    }
   ],
   "source": [
    "# 5.写一个 Python 程序，用 for 循环，求解 1 到 100 的和。\n",
    "sum=0\n",
    "for i in range(1,101):\n",
    "    sum+=i\n",
    "print(sum)\n"
   ]
  },
  {
   "cell_type": "code",
   "execution_count": 10,
   "metadata": {},
   "outputs": [
    {
     "name": "stdout",
     "output_type": "stream",
     "text": [
      "for循环实现:\n",
      "[5, 4, 3, 2, 1]\n",
      "while循环实现:\n",
      "[5, 4, 3, 2, 1]\n"
     ]
    }
   ],
   "source": [
    "# 6.写一个 Python 程序，分别用 for 和 while 循环实现对一个给定序列的倒排序输出。例如，给定 L=[1,2,3,4,5]，输出为 [5,4,3,2,1]。\n",
    "\n",
    "#给定序列\n",
    "L=[1,2,3,4,5]\n",
    "\n",
    "#for 循环实现\n",
    "print(\"for循环实现:\")\n",
    "L1=[]\n",
    "for i in reversed(L):\n",
    "    L1.append(i)\n",
    "print(L1)\n",
    "\n",
    "#while循环实现\n",
    "print(\"while循环实现:\")\n",
    "L2=[]\n",
    "i=len(L)-1\n",
    "while i>=0:\n",
    "    L2.append(L[i])\n",
    "    i-=1\n",
    "print(L2)\n"
   ]
  },
  {
   "cell_type": "code",
   "execution_count": 20,
   "metadata": {},
   "outputs": [
    {
     "name": "stdout",
     "output_type": "stream",
     "text": [
      "S不包含由两个或两个以上连续出现的相同字符组成的字符串\n"
     ]
    }
   ],
   "source": [
    "# 7.写一个 Python 程序，判断一个输入的字符串 S 是否包含由两个或两个以上连续出现的相同字符组成的字符串。例如，abccccda 中就包含 cccc 这个由 4 个连续字符组成的字符串。\n",
    "S=input(\"Enter a String: \")\n",
    "lastchar=None\n",
    "count=1\n",
    "for char in S:\n",
    "    if char==lastchar:\n",
    "        count+=1\n",
    "    else:\n",
    "        count=1\n",
    "    if count>=2:\n",
    "        print(\"S包含由两个或两个以上连续出现的相同字符组成的字符串\")\n",
    "        break\n",
    "    lastchar=char\n",
    "else:\n",
    "    print(\"S不包含由两个或两个以上连续出现的相同字符组成的字符串\")"
   ]
  },
  {
   "cell_type": "code",
   "execution_count": 15,
   "metadata": {},
   "outputs": [
    {
     "name": "stdout",
     "output_type": "stream",
     "text": [
      "Original : DataScience and Engineering\n",
      "New : DataScienceandEngineering\n"
     ]
    }
   ],
   "source": [
    "# 8.写一个 Python 程序，输入一个字符串 S，去掉其中所有的空格后输出。例如，“DataScience and Engineering”，去掉空格后为“DataScienceandEngineering”。\n",
    "S=input(\"Enter a string:\")\n",
    "S_without_space=S.replace(\" \",\"\")\n",
    "print(\"Original :\",S)\n",
    "print(\"New :\",S_without_space)"
   ]
  },
  {
   "cell_type": "code",
   "execution_count": 28,
   "metadata": {},
   "outputs": [
    {
     "name": "stdout",
     "output_type": "stream",
     "text": [
      "64 的三次方根是：4.0\n"
     ]
    }
   ],
   "source": [
    "# 9.请设计一个求 3 次方根的算法（不允许直接调用求方根的函数），并给出对应的 Python 程序。 采用牛顿迭代法求解，迭代过程数学公式表示略。\n",
    "def cube_root(a, epsilon=1e-6):  \n",
    "    x0 = 1  \n",
    "    while True:  \n",
    "        x1 = (2*x0 + a/(x0**2))/3  \n",
    "        if abs(x1 - x0) < epsilon:  \n",
    "            return x1  \n",
    "        x0 = x1  \n",
    "\n",
    "# 测试函数  \n",
    "a = int(input(\"请输入一个数：\"))\n",
    "root = cube_root(a)  \n",
    "print(f\"{a} 的三次方根是：{root}\")"
   ]
  },
  {
   "cell_type": "code",
   "execution_count": 29,
   "metadata": {},
   "outputs": [
    {
     "name": "stdout",
     "output_type": "stream",
     "text": [
      "120\n"
     ]
    }
   ],
   "source": [
    "# 10.写一个 Python 程序，给定一个常数 n（n>0），求 n 的阶乘，即 n!=1×2×...×(n-1)×n。例如，4!=24，5!=120。\n",
    "n=int(input(\"Enter a number:\"))\n",
    "result=1\n",
    "for i in range(1,n+1):\n",
    "    result*=i\n",
    "print(result)\n",
    "\n"
   ]
  }
 ],
 "metadata": {
  "kernelspec": {
   "display_name": "Python 3",
   "language": "python",
   "name": "python3"
  },
  "language_info": {
   "codemirror_mode": {
    "name": "ipython",
    "version": 3
   },
   "file_extension": ".py",
   "mimetype": "text/x-python",
   "name": "python",
   "nbconvert_exporter": "python",
   "pygments_lexer": "ipython3",
   "version": "3.12.4"
  }
 },
 "nbformat": 4,
 "nbformat_minor": 2
}
