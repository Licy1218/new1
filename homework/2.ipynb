{
 "cells": [
  {
   "cell_type": "code",
   "execution_count": 32,
   "metadata": {},
   "outputs": [
    {
     "name": "stdout",
     "output_type": "stream",
     "text": [
      "5\n",
      "3\n"
     ]
    }
   ],
   "source": [
    "# homework2\n",
    "# 1.编写 Python 程序，求两个正整数的最大公约数\n",
    "a=int(input(\"Enter first Number:\"))\n",
    "b=int(input(\"Enter second Number: \"))\n",
    "\n",
    "def gcd(a,b):\n",
    "    while b!=0:\n",
    "        a,b=b,a%b\n",
    "    return a\n",
    "print(gcd(25,60))\n",
    "print(gcd(a,b))"
   ]
  },
  {
   "cell_type": "code",
   "execution_count": 30,
   "metadata": {},
   "outputs": [
    {
     "name": "stdout",
     "output_type": "stream",
     "text": [
      "良好\n",
      "优秀\n"
     ]
    }
   ],
   "source": [
    "# 2.用if语句实现百分制转等级制（考试成绩，60分以下不合格，60—74分合格，75—89分为良好，90分以上为优秀）。\n",
    "score=int(input(\"Enter the score:\"))\n",
    "\n",
    "def score_to_grade(score):\n",
    "    if score<0 or score>100:\n",
    "        return \"无效成绩\"\n",
    "    if score<60:\n",
    "        return \"不合格\"\n",
    "    if score<75:\n",
    "        return \"合格\"\n",
    "    if score<90:\n",
    "        return \"良好\"\n",
    "    else:\n",
    "        return \"优秀\"\n",
    "\n",
    "print(score_to_grade(79))\n",
    "print(score_to_grade(score))"
   ]
  },
  {
   "cell_type": "code",
   "execution_count": 6,
   "metadata": {},
   "outputs": [
    {
     "name": "stdout",
     "output_type": "stream",
     "text": [
      "二进制小数： 11.1101\n"
     ]
    }
   ],
   "source": [
    "# 3.编写Python程序，完成十进制小数到二进制小数的转换\n",
    "def decimal_to_binary(decimal):  \n",
    "    # 整数部分转换  \n",
    "    integer_part = int(decimal)  \n",
    "    binary_integer = bin(integer_part)[2:]  \n",
    "    \n",
    "    # 小数部分转换  \n",
    "    fractional_part = decimal - integer_part  \n",
    "    binary_fraction = \"\"  \n",
    "    while fractional_part > 0 and len(binary_fraction) < 32:  # 限制小数点后32位  \n",
    "        fractional_part *= 2  \n",
    "        bit = int(fractional_part)  \n",
    "        if bit == 1:  \n",
    "            fractional_part -= bit  \n",
    "            binary_fraction += \"1\"  \n",
    "        else:  \n",
    "            binary_fraction += \"0\"  \n",
    "\n",
    "    return binary_integer + \".\" + binary_fraction  \n",
    "\n",
    "# 测试程序  \n",
    "#decimal = float(input(\"请输入十进制小数：\"))  \n",
    "decimal=3.8125\n",
    "binary = decimal_to_binary(decimal)  \n",
    "print(\"二进制小数：\", binary)\n"
   ]
  },
  {
   "cell_type": "code",
   "execution_count": 21,
   "metadata": {},
   "outputs": [
    {
     "name": "stdout",
     "output_type": "stream",
     "text": [
      "11.27026809086243\n"
     ]
    }
   ],
   "source": [
    "# 4.编写Python程序，产生10-20的随机浮点数\n",
    "import random\n",
    "\n",
    "random_float=random.uniform(10,20)\n",
    "print(random_float)"
   ]
  },
  {
   "cell_type": "code",
   "execution_count": 18,
   "metadata": {},
   "outputs": [
    {
     "name": "stdout",
     "output_type": "stream",
     "text": [
      "True\n"
     ]
    }
   ],
   "source": [
    "# 5.编写一个Python函数，判断一个整数是否是回文数。回文数是指正序（从左向右）和倒序（从右向左）读都是一样的数。\n",
    "def is_palindrome(num):\n",
    "    if num < 0:\n",
    "        return False\n",
    "    num_str = str(num)\n",
    "    return num_str==num_str[::-1]\n",
    "#num=int(input())\n",
    "num=787\n",
    "print(is_palindrome(num))"
   ]
  },
  {
   "cell_type": "code",
   "execution_count": 21,
   "metadata": {},
   "outputs": [
    {
     "name": "stdout",
     "output_type": "stream",
     "text": [
      "[0, 1, 1, 2, 3, 5, 8, 13, 21, 34]\n"
     ]
    }
   ],
   "source": [
    "# 6.编写一个Python函数，返回一个包含斐波那契数列的前N个数的列表。斐波那契数列是一个数列，其中每个数是前两个数的和，数列以0和1开始。\n",
    "def fibonacci(n):\n",
    "    result=[]\n",
    "    a,b=0,1\n",
    "    while len(result)<n:\n",
    "        result.append(a)\n",
    "        a,b=b,a+b\n",
    "    return result\n",
    "#n=int(input())\n",
    "n=10\n",
    "print(fibonacci(n))"
   ]
  },
  {
   "cell_type": "code",
   "execution_count": 24,
   "metadata": {},
   "outputs": [
    {
     "name": "stdout",
     "output_type": "stream",
     "text": [
      "7\n",
      "-1\n",
      "-1\n",
      "-1\n",
      "2\n"
     ]
    }
   ],
   "source": [
    "# 7.编写一个Python函数，接受一个整数数组作为输入，返回数组中第二大的数。如果数组中只有一个元素或数组为空，则返回-1。\n",
    "def second_largest(nums):\n",
    "    if len(nums)<2:\n",
    "        return -1\n",
    "    first,second=float(\"-inf\"),float(\"-inf\")\n",
    "    for num in nums:\n",
    "        if num>first:\n",
    "            second=first\n",
    "            first=num\n",
    "        elif num>second and num!=first:\n",
    "                second=num\n",
    "    if second==float(\"-inf\"):\n",
    "         return -1\n",
    "    return second\n",
    "\n",
    "print(second_largest([3, 5, 7, 2, 8, 8, 3]))  # 输出应该是7  \n",
    "print(second_largest([1, 1, 1]))             # 输出应该是-1（因为只有一个元素）  \n",
    "print(second_largest([]))                    # 输出应该是-1（因为数组为空）  \n",
    "print(second_largest([10]))                  # 输出应该是-1（因为只有一个元素）  \n",
    "print(second_largest([2, 2, 3, 1]))          # 输出应该是3"
   ]
  },
  {
   "cell_type": "code",
   "execution_count": 29,
   "metadata": {},
   "outputs": [
    {
     "name": "stdout",
     "output_type": "stream",
     "text": [
      "True\n",
      "False\n",
      "True\n"
     ]
    }
   ],
   "source": [
    "# 8.编写一个函数，使其能够用正则表达式的方式简单验证身份证号是否合法。\n",
    "import re  \n",
    "from datetime import datetime \n",
    "\n",
    "def is_valid_id_card(id_card): \n",
    "    id_card_regex = re.compile(r'^\\d{17}[\\dXx]?$') \n",
    "\n",
    "    if not id_card_regex.match(id_card):  \n",
    "        return False \n",
    "    \n",
    "    birth_date_str = id_card[6:14]  \n",
    "    try:  \n",
    "        birth_date = datetime.strptime(birth_date_str, '%Y%m%d')  \n",
    "    except ValueError:  \n",
    "        return False\n",
    "    \n",
    "    if birth_date.year < 1900 or birth_date.year > 2099:  \n",
    "        return False\n",
    "    \n",
    "    # 校验校验码  \n",
    "    weights = [7, 9, 10, 5, 8, 4, 2, 1, 6, 3, 7, 9, 10, 5, 8, 4, 2]  \n",
    "    check_digits = '10X98765432'  \n",
    "      \n",
    "    total = sum(int(id_card[i]) * weights[i] for i in range(17))  \n",
    "    mod = total % 11  \n",
    "      \n",
    "    if id_card[-1].upper() != check_digits[mod]:  \n",
    "        return False  \n",
    "      \n",
    "    return True \n",
    "\n",
    "print(is_valid_id_card(\"11010519491231002X\"))  \n",
    "print(is_valid_id_card(\"123456199001011234\")) \n",
    "print(is_valid_id_card(\"330523200501270063\"))\n",
    "    "
   ]
  }
 ],
 "metadata": {
  "kernelspec": {
   "display_name": "Python 3",
   "language": "python",
   "name": "python3"
  },
  "language_info": {
   "codemirror_mode": {
    "name": "ipython",
    "version": 3
   },
   "file_extension": ".py",
   "mimetype": "text/x-python",
   "name": "python",
   "nbconvert_exporter": "python",
   "pygments_lexer": "ipython3",
   "version": "3.12.4"
  }
 },
 "nbformat": 4,
 "nbformat_minor": 2
}
